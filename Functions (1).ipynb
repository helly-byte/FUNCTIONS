{
  "nbformat": 4,
  "nbformat_minor": 0,
  "metadata": {
    "colab": {
      "provenance": []
    },
    "kernelspec": {
      "name": "python3",
      "display_name": "Python 3"
    },
    "language_info": {
      "name": "python"
    }
  },
  "cells": [
    {
      "cell_type": "markdown",
      "source": [
        "#functions"
      ],
      "metadata": {
        "id": "1HMbi_T7zMse"
      }
    },
    {
      "cell_type": "markdown",
      "source": [
        "\n",
        "#theoritical question"
      ],
      "metadata": {
        "id": "p7x6x04XzP3-"
      }
    },
    {
      "cell_type": "markdown",
      "source": [
        "1. What is the diffrence between a function and a method in python?\n",
        "- A function is a block of code that is defined using the def keyword and can be called independently. Functions are not tied to any specific object.\n",
        "- A method is a dunction that is defined inside a class and is associated with an object of that class. it opratorson the data ( attributes) within the class. Methods are called on an object any typically interact with or manipulate the object's attributes.\n",
        "\n"
      ],
      "metadata": {
        "id": "dCCzOwOyzVas"
      }
    },
    {
      "cell_type": "code",
      "source": [
        "#function\n",
        "def my_function(arg1, arg2) :\n",
        "  return arg1 + arg2\n",
        "\n",
        "result = my_function(5,3)\n",
        "\n",
        "print(result)"
      ],
      "metadata": {
        "colab": {
          "base_uri": "https://localhost:8080/"
        },
        "id": "Qf22bWVY0det",
        "outputId": "c35c8949-cf02-4a7c-9377-81fbfda3b45c"
      },
      "execution_count": 1,
      "outputs": [
        {
          "output_type": "stream",
          "name": "stdout",
          "text": [
            "8\n"
          ]
        }
      ]
    },
    {
      "cell_type": "code",
      "source": [
        "#method\n",
        "class MyClass :\n",
        "  def my_method(self, arg1, arg2):\n",
        "    return arg1 + arg2\n",
        "\n",
        "\n",
        "obj = MyClass()\n",
        "result = obj.my_method(5,3)\n",
        "print(result)\n"
      ],
      "metadata": {
        "colab": {
          "base_uri": "https://localhost:8080/"
        },
        "id": "6YZzW2c10-cj",
        "outputId": "5de770a0-0375-40da-cf24-ef9af7fbeade"
      },
      "execution_count": 2,
      "outputs": [
        {
          "output_type": "stream",
          "name": "stdout",
          "text": [
            "8\n"
          ]
        }
      ]
    },
    {
      "cell_type": "markdown",
      "source": [
        "2.  Explain the concept of function arguments and parameters in python.\n",
        "- Parameters are the placeholders variables defined in the function header. They act as inputs to the function and specify what data the function excepts when called ."
      ],
      "metadata": {
        "id": "y75vCAEi2BRO"
      }
    },
    {
      "cell_type": "code",
      "source": [
        "def introduce(name, age):\n",
        "  print(f\"my name is {name}, and I am {age} years old.\")\n",
        "\n",
        "introduce(age=20 , name=\"helly\")"
      ],
      "metadata": {
        "colab": {
          "base_uri": "https://localhost:8080/"
        },
        "id": "6-TeWE_K2wvC",
        "outputId": "3c21dabe-8e45-4050-f52d-fceaec350aa4"
      },
      "execution_count": 3,
      "outputs": [
        {
          "output_type": "stream",
          "name": "stdout",
          "text": [
            "my name is helly, and I am 20 years old.\n"
          ]
        }
      ]
    },
    {
      "cell_type": "markdown",
      "source": [
        "3.what are the different ways to define and a function in python?\n",
        "- Functions are defined using the def keywords, followed by the function name, parameters(if any), and a block of code.\n"
      ],
      "metadata": {
        "id": "VOU81x1p3bjX"
      }
    },
    {
      "cell_type": "code",
      "source": [
        "def greet(name) :\n",
        "  print(f\"Hello, {name}!\")\n",
        "greet (\"Helly\")"
      ],
      "metadata": {
        "colab": {
          "base_uri": "https://localhost:8080/"
        },
        "id": "kJucuQU74Kq0",
        "outputId": "6b8163c4-4782-455f-da45-a6bb1ebb566e"
      },
      "execution_count": 4,
      "outputs": [
        {
          "output_type": "stream",
          "name": "stdout",
          "text": [
            "Hello, Helly!\n"
          ]
        }
      ]
    },
    {
      "cell_type": "markdown",
      "source": [
        "4. What is the purpose of the return statement in a python function?\n",
        "- The primary purpose of the return statement is to send a value (or values) from the function back to the caller > The allows the resukt of a computation or opration performed within the function to be used elsewhere in the program."
      ],
      "metadata": {
        "id": "rFMfkMiq4fuH"
      }
    },
    {
      "cell_type": "code",
      "source": [
        "def add(a, b):\n",
        "  return a +  b\n",
        "\n",
        "\n",
        "result = add(3, 55)\n",
        "print(result)\n"
      ],
      "metadata": {
        "colab": {
          "base_uri": "https://localhost:8080/"
        },
        "id": "Puf_4hjs6t8i",
        "outputId": "ceb4b9e3-9fbc-48d8-c495-82215860e4f0"
      },
      "execution_count": 5,
      "outputs": [
        {
          "output_type": "stream",
          "name": "stdout",
          "text": [
            "58\n"
          ]
        }
      ]
    },
    {
      "cell_type": "markdown",
      "source": [
        "5. What are iterators in python and how do they differ from iterables?\n",
        "- An iterable is any object in python that can be \"iterated over\",meaning you can access its elements one at a time.\n",
        "- An iterator is an object that represents a stream of data. It producec one value at a time when you call its next() method (or use next())."
      ],
      "metadata": {
        "id": "q6Zfr87b7DC-"
      }
    },
    {
      "cell_type": "code",
      "source": [
        "#A list is an iterable\n",
        "my_list = [1,2,3,4,5]\n",
        "for item in my_list :\n",
        "  print(item)"
      ],
      "metadata": {
        "colab": {
          "base_uri": "https://localhost:8080/"
        },
        "id": "i4-NcpTB8R-E",
        "outputId": "ef91879f-b2a1-4a15-c6f9-be5ea0beb9d1"
      },
      "execution_count": 6,
      "outputs": [
        {
          "output_type": "stream",
          "name": "stdout",
          "text": [
            "1\n",
            "2\n",
            "3\n",
            "4\n",
            "5\n"
          ]
        }
      ]
    },
    {
      "cell_type": "code",
      "source": [
        "#iterato\n",
        "my_list = [1,2,3]\n",
        "iterator = iter(my_list)\n",
        "\n",
        "print(next(iterator))\n",
        "print(next(iterator))\n",
        "print(next(iterator))\n"
      ],
      "metadata": {
        "colab": {
          "base_uri": "https://localhost:8080/"
        },
        "id": "WnWcf6ty8w-I",
        "outputId": "49c933ac-d88f-450c-c066-9b4e41ad28c0"
      },
      "execution_count": 7,
      "outputs": [
        {
          "output_type": "stream",
          "name": "stdout",
          "text": [
            "1\n",
            "2\n",
            "3\n"
          ]
        }
      ]
    },
    {
      "cell_type": "markdown",
      "source": [
        "6. Explain the concept of generators in python and how they are defined.\n",
        "- Generators in python are a special type of iterable that allow you to produce values one at a time using the yield keyword. They provide an effcient way to work with large datasets or infinite sequences without having to create and store  the entire sequences in memory. A generator is a type of iterator that generates values lazily,meaning it produces values on demand instead of computing and storing them all at once. Generators are defined using a generator function or generator expression.\n"
      ],
      "metadata": {
        "id": "R9MRdqAO9fGp"
      }
    },
    {
      "cell_type": "code",
      "source": [
        "gen_exp = (x ** 2 for x in range(5))\n",
        "print(next(gen_exp))\n",
        "print(next(gen_exp))"
      ],
      "metadata": {
        "colab": {
          "base_uri": "https://localhost:8080/"
        },
        "id": "AP5lh6gGk9Va",
        "outputId": "182f3ea4-34a1-43bc-ef4b-fc755fe9f62c"
      },
      "execution_count": 2,
      "outputs": [
        {
          "output_type": "stream",
          "name": "stdout",
          "text": [
            "0\n",
            "1\n"
          ]
        }
      ]
    },
    {
      "cell_type": "markdown",
      "source": [
        "7. What are the advantages of using generators over regular functions?\n",
        "- Using generators in python offers several advantages over regular functions,especially when dealingwith large datasets,infinite sequences, or memory-intensive oprations.\n",
        "-Memory Efficiency\n",
        "- Generators do not store all the values in memory , They generate them on demand. Useful for processing large datasets or infinite streams.\n",
        "- Simpler syntax:\n",
        "- Generators can simplify code for sequences or pipelines , eplacing manual state management with yield.\n",
        "\n",
        "8. What is a lambda function i python and when is it typically used?\n",
        "- A lambda function in python is a small, anonymous function that is defined using the lambda keyword.It can take any number of arguments but can only contain a single expression. The result of the expression is automatically returned."
      ],
      "metadata": {
        "id": "c1IgFvF_li80"
      }
    },
    {
      "cell_type": "code",
      "source": [
        "add = lambda x, y: x + y\n",
        "\n",
        "result = add (45, 76)\n",
        "print(result)"
      ],
      "metadata": {
        "colab": {
          "base_uri": "https://localhost:8080/"
        },
        "id": "AWg5I3y7oVfk",
        "outputId": "96a072d0-76fc-4f43-af4c-4cb7ed94f962"
      },
      "execution_count": 3,
      "outputs": [
        {
          "output_type": "stream",
          "name": "stdout",
          "text": [
            "121\n"
          ]
        }
      ]
    },
    {
      "cell_type": "markdown",
      "source": [
        "9. Explain the purpose and usage of the map() function in python.\n",
        "- The map() function in python is a built-in function that applies a given function to each item of an iterable and returns a map object (an iterator)that yields the results.\n",
        "- Purpose of map()\n",
        "- The purpose of the map() function is to transform or apply a function to all elements in an iterable. This allows you to process each item in an iterable in a clean, efficient , and concise manner, without the need for writing explicit loops."
      ],
      "metadata": {
        "id": "AZwYEcd5opwz"
      }
    },
    {
      "cell_type": "code",
      "source": [
        "list1 = [1,2,3]\n",
        "list2 = [4,5,6]\n",
        "\n",
        "result = map(lambda x, y: x + y, list1, list2)\n",
        "print(list(result))\n",
        "\n"
      ],
      "metadata": {
        "colab": {
          "base_uri": "https://localhost:8080/"
        },
        "id": "v4EL2tfiqK3e",
        "outputId": "e9a016ff-16fa-440c-8b7c-c0b18ed6e8f3"
      },
      "execution_count": 4,
      "outputs": [
        {
          "output_type": "stream",
          "name": "stdout",
          "text": [
            "[5, 7, 9]\n"
          ]
        }
      ]
    },
    {
      "cell_type": "markdown",
      "source": [
        "10. What is the diffrence between map(), reduce() and filter() functions in python?\n",
        "- Map() function purpose: The map() function is used to apply a given function to every item in an iterable (or multiple iterables) and return a new itrable (man object)containing the results.\n",
        "- Reduce() functions purpose: The reduce() function is used to apply a binary function (a function that takes two arguments) cumulatively to the iteams of an iterable, reducing the iterable to a single value.\n",
        "- filter() function purpose: The filter() function is used to filter out elements from an iterable based on a given condition(a function that returns true or false).It returns a new iterable that only contains the elements where the function returns true."
      ],
      "metadata": {
        "id": "0SCWjDTKqnUO"
      }
    },
    {
      "cell_type": "code",
      "source": [
        "#map\n",
        "numbers = [1,2,3,4,5]\n",
        "squared = map(lambda x:x ** 2, numbers)\n",
        "print(list(squared))"
      ],
      "metadata": {
        "colab": {
          "base_uri": "https://localhost:8080/"
        },
        "id": "MRNO1BC908MK",
        "outputId": "f0af9c3a-ef8a-4a7c-d2a3-227d1df3aed9"
      },
      "execution_count": 5,
      "outputs": [
        {
          "output_type": "stream",
          "name": "stdout",
          "text": [
            "[1, 4, 9, 16, 25]\n"
          ]
        }
      ]
    },
    {
      "cell_type": "code",
      "source": [
        "#reduce\n",
        "from functools import reduce\n",
        "numbers = [1,2,3,4]\n",
        "total = reduce(lambda x,y: x + y, numbers)\n",
        "print(total) #OUTPUT : 10(1+2+3+4)"
      ],
      "metadata": {
        "colab": {
          "base_uri": "https://localhost:8080/"
        },
        "id": "CPtdT3jH1kUc",
        "outputId": "261a643c-6401-44a3-9837-3e3b57f99d15"
      },
      "execution_count": 7,
      "outputs": [
        {
          "output_type": "stream",
          "name": "stdout",
          "text": [
            "10\n"
          ]
        }
      ]
    },
    {
      "cell_type": "code",
      "source": [
        "#filter\n",
        "numbers = [1,2,3,4,5,6]\n",
        "even_numbers = filter(lambda x:x % 2 == 0, numbers)\n",
        "print(list(even_numbers))\n",
        "\n",
        "\n",
        "\n",
        "\n",
        "\n",
        "\n",
        "\n",
        "\n",
        "\n",
        "\n",
        "\n",
        "\n",
        "\n",
        "\n",
        "\n",
        "\n",
        "\n",
        "\n",
        "\n",
        "\n",
        "\n",
        "\n",
        "\n",
        "\n",
        "\n",
        "\n",
        "\n",
        "\n",
        "\n",
        "\n",
        "\n",
        "\n",
        "\n",
        "\n",
        "\n",
        "\n",
        "\n",
        "\n",
        "\n",
        "\n",
        "\n",
        "\n",
        "\n",
        "\n",
        "\n",
        "\n",
        "\n",
        "\n",
        "\n",
        "\n",
        "\n",
        "\n",
        "\n",
        "\n",
        "\n",
        "\n",
        "\n",
        "\n",
        "\n",
        "\n",
        "\n",
        "\n",
        "\n",
        "\n",
        "\n",
        "\n",
        "\n",
        "\n",
        "\n",
        "\n",
        "\n",
        "\n",
        "\n",
        "\n",
        "\n",
        "\n",
        "\n",
        "\n",
        "\n",
        "\n",
        "\n",
        "\n",
        "\n",
        "\n",
        "\n",
        "\n",
        "\n",
        "\n",
        "\n",
        "\n",
        "\n",
        "\n",
        "\n",
        "\n",
        "\n",
        "\n",
        "\n",
        "\n",
        "\n",
        "\n",
        "\n",
        "\n",
        "\n",
        "\n",
        "\n",
        "\n",
        "\n",
        "\n",
        "\n",
        "\n",
        "\n",
        "\n",
        "\n",
        "\n",
        "\n",
        "\n",
        "\n",
        "\n",
        "\n"
      ],
      "metadata": {
        "colab": {
          "base_uri": "https://localhost:8080/"
        },
        "id": "HlCZJ-sj2o3b",
        "outputId": "f468cfd8-e644-4fbd-8e8b-03a8d9309e33"
      },
      "execution_count": 8,
      "outputs": [
        {
          "output_type": "stream",
          "name": "stdout",
          "text": [
            "[2, 4, 6]\n"
          ]
        }
      ]
    },
    {
      "cell_type": "markdown",
      "source": [
        "11. Using pen & paper write the internal mechanism for sum opration using reduce functioon on this given list: [47,11,42,3];\n",
        "- The reduce()function applies a binary function cumulatively to the items of an iterable , reducing them to a single value.Let's break down the sum opration using reduce() on the list [47,11,42,3].\n",
        "- Opration:We want to compute the sum of the numbers in the list using the reduce() function. For this , we'll use a lambda function that adds two numbers:lambda x,y: x+y.\n",
        "- step-by-step Mechanism(pen & paper):\n",
        "- We will apply the fuction cumulatively:\n",
        "- Initial list:[47,11.42,13]binary function :lambda x,y : x+y\n",
        "- step 1:First ,47 and 1 are combined . Apply the fuction to the fisrt two elements:47+1 = 58 so, after the first step, the result is 58.\n",
        "- step 2 : Now, the result (58) and the next element(42) are combined. Apply the function to 58 and 42: 58+42 =100 so, after the second step ,the result is 100.\n",
        "- step 3 : Finally,the result (100) and the last element(13) are combined . Apply the fuction to 100 and 13 : 100+13 = 113 So, after the third step, the result is 113.\n",
        "- Final result : 113  \n"
      ],
      "metadata": {
        "id": "es7MkWE08BCG"
      }
    },
    {
      "cell_type": "markdown",
      "source": [
        "#practical questions:"
      ],
      "metadata": {
        "id": "9GrubDvgCALL"
      }
    },
    {
      "cell_type": "markdown",
      "source": [
        "1. Write a python fuction that takes aa list of numbers as input and returns the sum of all even  numbers in the list."
      ],
      "metadata": {
        "id": "lnOz3UD7CEnf"
      }
    },
    {
      "cell_type": "code",
      "source": [
        "def sum_even_numbers(numbers):\n",
        "\n",
        "  even_numbers = [num for num in numbers if num % 2 == 0]\n",
        "  return sum(even_numbers)\n",
        "\n",
        "\n",
        "\n",
        "numbers = [47,11,42,13,8,22]\n",
        "result = sum_even_numbers(numbers)\n",
        "print(result)\n",
        "\n",
        "\n"
      ],
      "metadata": {
        "colab": {
          "base_uri": "https://localhost:8080/"
        },
        "id": "dGursh8gCmUF",
        "outputId": "8cf15c0f-ea56-4fa9-d6c4-f7db306999bc"
      },
      "execution_count": 12,
      "outputs": [
        {
          "output_type": "stream",
          "name": "stdout",
          "text": [
            "72\n"
          ]
        }
      ]
    },
    {
      "cell_type": "markdown",
      "source": [
        "2. Create a python fuction that accepts a string and returns the reverse of that string."
      ],
      "metadata": {
        "id": "3T5LTU7-EHXd"
      }
    },
    {
      "cell_type": "code",
      "source": [
        "def reverse_string(s):\n",
        "    return s[::-1]\n",
        "\n",
        "input_string = \"hello\"\n",
        "reversed_string = reverse_string(input_string)\n",
        "print(reversed_string)"
      ],
      "metadata": {
        "colab": {
          "base_uri": "https://localhost:8080/"
        },
        "id": "uJSv7JTrEsJv",
        "outputId": "88a182a9-4b91-4762-d118-9fac378b6985"
      },
      "execution_count": 15,
      "outputs": [
        {
          "output_type": "stream",
          "name": "stdout",
          "text": [
            "olleh\n"
          ]
        }
      ]
    },
    {
      "cell_type": "markdown",
      "source": [
        "3. Implement a python function that takes a list of integers and returns a new list containing the squares of each number."
      ],
      "metadata": {
        "id": "8QjFzgO3Fs3j"
      }
    },
    {
      "cell_type": "code",
      "source": [
        "def square_numbers(numbers):\n",
        "    return [num ** 2 for num in numbers]\n",
        "\n",
        "input_list = [1,2,3,4,5]\n",
        "squared_list = square_numbers(input_list)\n",
        "print(squared_list)"
      ],
      "metadata": {
        "colab": {
          "base_uri": "https://localhost:8080/"
        },
        "id": "SdasJ2n_GF_v",
        "outputId": "fe85c136-ecda-4616-8de4-faa96ba8b914"
      },
      "execution_count": 16,
      "outputs": [
        {
          "output_type": "stream",
          "name": "stdout",
          "text": [
            "[1, 4, 9, 16, 25]\n"
          ]
        }
      ]
    },
    {
      "cell_type": "markdown",
      "source": [
        "4. Write a python fuction that checks if a given number is prime or not from 1 to 200."
      ],
      "metadata": {
        "id": "2mPr6mFlGt6l"
      }
    },
    {
      "cell_type": "code",
      "source": [
        "def is_prime(num):\n",
        "    if num <= 1 :\n",
        "        return False\n",
        "    for i in range(2, int(num ** 0.5) + 1):\n",
        "         if num % i == 0:\n",
        "             return False\n",
        "    return True\n",
        "\n",
        "\n",
        "prime_numbers = [num for num in range(1, 201) if is_prime(num)]\n",
        "print(prime_numbers)"
      ],
      "metadata": {
        "colab": {
          "base_uri": "https://localhost:8080/"
        },
        "id": "Y8PTrJm-G9ff",
        "outputId": "e84dfe27-325a-417a-b738-8bd19e20a6ac"
      },
      "execution_count": 17,
      "outputs": [
        {
          "output_type": "stream",
          "name": "stdout",
          "text": [
            "[2, 3, 5, 7, 11, 13, 17, 19, 23, 29, 31, 37, 41, 43, 47, 53, 59, 61, 67, 71, 73, 79, 83, 89, 97, 101, 103, 107, 109, 113, 127, 131, 137, 139, 149, 151, 157, 163, 167, 173, 179, 181, 191, 193, 197, 199]\n"
          ]
        }
      ]
    },
    {
      "cell_type": "markdown",
      "source": [
        "5. Create an iterator class n python that generates the fibonacci sequence up to a specified number of terms."
      ],
      "metadata": {
        "id": "HmmH7MTDIQUY"
      }
    },
    {
      "cell_type": "code",
      "source": [
        "class FibonacciIterator:\n",
        "     def __init__(self, n):\n",
        "         \"\"\"Initialize the iterator with the number of terms to generate.\"\"\"\n",
        "         self.n = n\n",
        "         self.a, self.b = 0, 1\n",
        "         self.count = 0\n",
        "\n",
        "\n",
        "     def __iter__(self):\n",
        "          \"\"\"return the iterator object itself.\"\"\"\n",
        "          return self\n",
        "\n",
        "\n",
        "     def __next__(self):\n",
        "         \"\"\"Return the next fibonacci number.\"\"\"\n",
        "         if self.count >= self.n:\n",
        "             raise StopIteration\n",
        "         else:\n",
        "              fib_number = self.a\n",
        "              self.a, self.b = self.b, self.a + self.b\n",
        "              self.count += 1\n",
        "              return fib_number\n",
        "\n",
        "n_terms = 10\n",
        "fibonacci_sequence = FibonacciIterator(n_terms)\n",
        "\n",
        "\n",
        "for num in fibonacci_sequence:\n",
        "    print(num)\n",
        "\n",
        "\n"
      ],
      "metadata": {
        "colab": {
          "base_uri": "https://localhost:8080/"
        },
        "id": "Ui3vgY8JIiXZ",
        "outputId": "76b44542-296e-41da-e1dd-75018f3fcec0"
      },
      "execution_count": 19,
      "outputs": [
        {
          "output_type": "stream",
          "name": "stdout",
          "text": [
            "0\n",
            "1\n",
            "1\n",
            "2\n",
            "3\n",
            "5\n",
            "8\n",
            "13\n",
            "21\n",
            "34\n"
          ]
        }
      ]
    },
    {
      "cell_type": "markdown",
      "source": [
        "6. write a generator function in python that yields the powers of 2 up to a given exponent."
      ],
      "metadata": {
        "id": "j3eOzfFkSknu"
      }
    },
    {
      "cell_type": "code",
      "source": [
        "def powers_of_2(exponent):\n",
        "  \"\"\"Generator that yields powers of 2 up to the given exponent.\"\"\"\n",
        "  for i in range(exponent + 1):\n",
        "    yield 2 ** i\n",
        "\n",
        "exponent = 5\n",
        "for power in powers_of_2(exponent):\n",
        "    print(power)"
      ],
      "metadata": {
        "colab": {
          "base_uri": "https://localhost:8080/"
        },
        "id": "_CIki9ANS1cd",
        "outputId": "aa81cfd1-c986-4e95-f901-2cc7bbf161ff"
      },
      "execution_count": 20,
      "outputs": [
        {
          "output_type": "stream",
          "name": "stdout",
          "text": [
            "1\n",
            "2\n",
            "4\n",
            "8\n",
            "16\n",
            "32\n"
          ]
        }
      ]
    },
    {
      "cell_type": "markdown",
      "source": [
        "8. use a lambda function in python to sort a list of tuples basedon the second element of each tuple."
      ],
      "metadata": {
        "id": "xphjQiJzTn_N"
      }
    },
    {
      "cell_type": "code",
      "source": [
        "tuple_list = [(1,4), (3,1), (5,9), (2,6)]\n",
        "\n",
        "sorted_list = sorted(tuple_list, key=lambda x: x[1])\n",
        "\n",
        "print(sorted_list)"
      ],
      "metadata": {
        "colab": {
          "base_uri": "https://localhost:8080/"
        },
        "id": "PLg_P1MeT3be",
        "outputId": "ef6ca8c2-6ff3-4bf6-e1b2-492070b0d4b5"
      },
      "execution_count": 21,
      "outputs": [
        {
          "output_type": "stream",
          "name": "stdout",
          "text": [
            "[(3, 1), (1, 4), (2, 6), (5, 9)]\n"
          ]
        }
      ]
    },
    {
      "cell_type": "markdown",
      "source": [
        "9. Write a python program that uses map() to convert a list of temperatures from celsuis to fahrenheit."
      ],
      "metadata": {
        "id": "2y96r5I0Ujby"
      }
    },
    {
      "cell_type": "code",
      "source": [
        "def celsuis_to_fahrenheit(celsius):\n",
        "    return (celsius * 9/5) + 32\n",
        "\n",
        "celsius_tempertures = [0, 20, 30, 40, 100]\n",
        "\n",
        "fahrenheit_tempertures = list(map(celsuis_to_fahrenheit, celsius_tempertures))\n",
        "\n",
        "print(fahrenheit_tempertures)"
      ],
      "metadata": {
        "colab": {
          "base_uri": "https://localhost:8080/"
        },
        "id": "r1ZO7-TKv6Wa",
        "outputId": "4bad1bc5-4fbc-47c6-fa63-0834cae895c6"
      },
      "execution_count": 36,
      "outputs": [
        {
          "output_type": "stream",
          "name": "stdout",
          "text": [
            "[32.0, 68.0, 86.0, 104.0, 212.0]\n"
          ]
        }
      ]
    },
    {
      "cell_type": "markdown",
      "source": [
        "10. Create a python program that uses filter() to remove all the vowels from a given string."
      ],
      "metadata": {
        "id": "JPbDcZw_ibDa"
      }
    },
    {
      "cell_type": "code",
      "source": [
        "def is_not_vowel(char):\n",
        "    return char.lower() not in 'aeiou'\n",
        "\n",
        "input_string = \"Hello, World!\"\n",
        "\n",
        "filtered_string = ''.join(filter(is_not_vowel, input_string))\n",
        "\n",
        "print(filtered_string)\n"
      ],
      "metadata": {
        "colab": {
          "base_uri": "https://localhost:8080/"
        },
        "id": "mFVRzCZ4jt_K",
        "outputId": "07cbbed6-b7ab-4aac-ec4d-c20e8f47882e"
      },
      "execution_count": 34,
      "outputs": [
        {
          "output_type": "stream",
          "name": "stdout",
          "text": [
            "Hll, Wrld!\n"
          ]
        }
      ]
    },
    {
      "cell_type": "markdown",
      "source": [
        "11. Imagine an accounting routine used in a book shop. It works on a list with sublists, which look like this:"
      ],
      "metadata": {
        "id": "IgRxdh40much"
      }
    },
    {
      "cell_type": "code",
      "source": [
        "orders = [\n",
        "    [34587, \"Learning python, Mark Lutz\", 4, 5.00],\n",
        "    [98762, \"Programming python, Mark Lutz\", 3,56.80],\n",
        "    [77226, \"Head First Python, paul Barry\", 1, 32.95],\n",
        "    [88112, \"Einfuhrung in python3 , bernd klein\", 2, 24.99]\n",
        "\n",
        "]\n",
        "\n",
        "calculate_order_value = lambda order: (order[0], order[3] * order[2] + 10 if order[3] * order[2] < 100 else order[3] * order[2])\n",
        "\n",
        "result =list(map(calculate_order_value, orders))\n",
        "\n",
        "print(result)"
      ],
      "metadata": {
        "colab": {
          "base_uri": "https://localhost:8080/"
        },
        "id": "_j347JpFt36B",
        "outputId": "b8fd0ae5-8822-4627-c261-76653b3af3cc"
      },
      "execution_count": 35,
      "outputs": [
        {
          "output_type": "stream",
          "name": "stdout",
          "text": [
            "[(34587, 30.0), (98762, 170.39999999999998), (77226, 42.95), (88112, 59.98)]\n"
          ]
        }
      ]
    }
  ]
}